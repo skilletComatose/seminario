{
 "metadata": {
  "language_info": {
   "codemirror_mode": {
    "name": "ipython",
    "version": 3
   },
   "file_extension": ".py",
   "mimetype": "text/x-python",
   "name": "python",
   "nbconvert_exporter": "python",
   "pygments_lexer": "ipython3",
   "version": "3.8.10-final"
  },
  "orig_nbformat": 2,
  "kernelspec": {
   "name": "python3",
   "display_name": "Python 3",
   "language": "python"
  }
 },
 "nbformat": 4,
 "nbformat_minor": 2,
 "cells": [
  {
   "cell_type": "code",
   "execution_count": 1,
   "metadata": {},
   "outputs": [],
   "source": [
    "import pandas as pd\n",
    "import uuid\n",
    "import random\n",
    "# !pip install faker\n",
    "from faker import Faker"
   ]
  },
  {
   "cell_type": "code",
   "execution_count": 2,
   "metadata": {},
   "outputs": [],
   "source": [
    "df = pd.read_csv('data.csv')"
   ]
  },
  {
   "cell_type": "code",
   "execution_count": 3,
   "metadata": {},
   "outputs": [],
   "source": [
    "needed = ['name','type','price']\n",
    "df = df[needed]"
   ]
  },
  {
   "cell_type": "code",
   "execution_count": 4,
   "metadata": {},
   "outputs": [],
   "source": [
    "fake = Faker()\n"
   ]
  },
  {
   "cell_type": "code",
   "execution_count": 5,
   "metadata": {},
   "outputs": [
    {
     "output_type": "execute_result",
     "data": {
      "text/plain": [
       "                                    name       type     price\n",
       "0               Empanaditas Antioqueñas    entradas  $ 14.000\n",
       "1                            Chicharrón    entradas  $ 22.600\n",
       "2                        Entrada Típica    entradas  $ 29.900\n",
       "3             Plancha de Queso Papialpa    entradas  $ 24.200\n",
       "4                         Crema de Maíz    entradas  $ 14.500\n",
       "..                                   ...        ...       ...\n",
       "58      Calentado con Huevos con Aliños   desayunos  $ 16.500\n",
       "59                     Bistec a Caballo   desayunos  $ 29.900\n",
       "60                    Chorizo con Arepa   desayunos  $ 12.500\n",
       "61          Huevos Especiales con Arepa   desayunos  $ 19.900\n",
       "62  Huevos al gusto con Arepa con queso   desayunos  $ 15.000\n",
       "\n",
       "[63 rows x 3 columns]"
      ],
      "text/html": "<div>\n<style scoped>\n    .dataframe tbody tr th:only-of-type {\n        vertical-align: middle;\n    }\n\n    .dataframe tbody tr th {\n        vertical-align: top;\n    }\n\n    .dataframe thead th {\n        text-align: right;\n    }\n</style>\n<table border=\"1\" class=\"dataframe\">\n  <thead>\n    <tr style=\"text-align: right;\">\n      <th></th>\n      <th>name</th>\n      <th>type</th>\n      <th>price</th>\n    </tr>\n  </thead>\n  <tbody>\n    <tr>\n      <th>0</th>\n      <td>Empanaditas Antioqueñas</td>\n      <td>entradas</td>\n      <td>$ 14.000</td>\n    </tr>\n    <tr>\n      <th>1</th>\n      <td>Chicharrón</td>\n      <td>entradas</td>\n      <td>$ 22.600</td>\n    </tr>\n    <tr>\n      <th>2</th>\n      <td>Entrada Típica</td>\n      <td>entradas</td>\n      <td>$ 29.900</td>\n    </tr>\n    <tr>\n      <th>3</th>\n      <td>Plancha de Queso Papialpa</td>\n      <td>entradas</td>\n      <td>$ 24.200</td>\n    </tr>\n    <tr>\n      <th>4</th>\n      <td>Crema de Maíz</td>\n      <td>entradas</td>\n      <td>$ 14.500</td>\n    </tr>\n    <tr>\n      <th>...</th>\n      <td>...</td>\n      <td>...</td>\n      <td>...</td>\n    </tr>\n    <tr>\n      <th>58</th>\n      <td>Calentado con Huevos con Aliños</td>\n      <td>desayunos</td>\n      <td>$ 16.500</td>\n    </tr>\n    <tr>\n      <th>59</th>\n      <td>Bistec a Caballo</td>\n      <td>desayunos</td>\n      <td>$ 29.900</td>\n    </tr>\n    <tr>\n      <th>60</th>\n      <td>Chorizo con Arepa</td>\n      <td>desayunos</td>\n      <td>$ 12.500</td>\n    </tr>\n    <tr>\n      <th>61</th>\n      <td>Huevos Especiales con Arepa</td>\n      <td>desayunos</td>\n      <td>$ 19.900</td>\n    </tr>\n    <tr>\n      <th>62</th>\n      <td>Huevos al gusto con Arepa con queso</td>\n      <td>desayunos</td>\n      <td>$ 15.000</td>\n    </tr>\n  </tbody>\n</table>\n<p>63 rows × 3 columns</p>\n</div>"
     },
     "metadata": {},
     "execution_count": 5
    }
   ],
   "source": [
    "df"
   ]
  },
  {
   "cell_type": "code",
   "execution_count": 6,
   "metadata": {},
   "outputs": [],
   "source": [
    "user_ids = [ str (uuid.uuid4()) for i in range(1008)]"
   ]
  },
  {
   "cell_type": "code",
   "execution_count": 7,
   "metadata": {},
   "outputs": [],
   "source": [
    "sexs = [random.choice(['F','M']) for i in range(1008)]\n",
    "pay_mode = [  random.choice(['CREDIT','PSE']) for i in range(1008)]\n",
    "rating = [ round ( random.uniform(3,5),1 ) for i in range(63) ]"
   ]
  },
  {
   "cell_type": "code",
   "execution_count": 8,
   "metadata": {},
   "outputs": [],
   "source": [
    "df['rating'] = rating"
   ]
  },
  {
   "cell_type": "code",
   "execution_count": 9,
   "metadata": {},
   "outputs": [],
   "source": [
    "sample = df\n",
    "for i in range(15):\n",
    "    sample = sample.append(df)"
   ]
  },
  {
   "cell_type": "code",
   "execution_count": 10,
   "metadata": {},
   "outputs": [],
   "source": [
    "sample = sample.reset_index(drop=True)"
   ]
  },
  {
   "cell_type": "code",
   "execution_count": 11,
   "metadata": {},
   "outputs": [
    {
     "output_type": "execute_result",
     "data": {
      "text/plain": [
       "                                      name       type     price  rating\n",
       "0                 Empanaditas Antioqueñas    entradas  $ 14.000     4.7\n",
       "1                              Chicharrón    entradas  $ 22.600     4.9\n",
       "2                          Entrada Típica    entradas  $ 29.900     4.3\n",
       "3               Plancha de Queso Papialpa    entradas  $ 24.200     3.5\n",
       "4                           Crema de Maíz    entradas  $ 14.500     3.8\n",
       "...                                    ...        ...       ...     ...\n",
       "1003      Calentado con Huevos con Aliños   desayunos  $ 16.500     3.5\n",
       "1004                     Bistec a Caballo   desayunos  $ 29.900     3.8\n",
       "1005                    Chorizo con Arepa   desayunos  $ 12.500     3.0\n",
       "1006          Huevos Especiales con Arepa   desayunos  $ 19.900     4.6\n",
       "1007  Huevos al gusto con Arepa con queso   desayunos  $ 15.000     4.2\n",
       "\n",
       "[1008 rows x 4 columns]"
      ],
      "text/html": "<div>\n<style scoped>\n    .dataframe tbody tr th:only-of-type {\n        vertical-align: middle;\n    }\n\n    .dataframe tbody tr th {\n        vertical-align: top;\n    }\n\n    .dataframe thead th {\n        text-align: right;\n    }\n</style>\n<table border=\"1\" class=\"dataframe\">\n  <thead>\n    <tr style=\"text-align: right;\">\n      <th></th>\n      <th>name</th>\n      <th>type</th>\n      <th>price</th>\n      <th>rating</th>\n    </tr>\n  </thead>\n  <tbody>\n    <tr>\n      <th>0</th>\n      <td>Empanaditas Antioqueñas</td>\n      <td>entradas</td>\n      <td>$ 14.000</td>\n      <td>4.7</td>\n    </tr>\n    <tr>\n      <th>1</th>\n      <td>Chicharrón</td>\n      <td>entradas</td>\n      <td>$ 22.600</td>\n      <td>4.9</td>\n    </tr>\n    <tr>\n      <th>2</th>\n      <td>Entrada Típica</td>\n      <td>entradas</td>\n      <td>$ 29.900</td>\n      <td>4.3</td>\n    </tr>\n    <tr>\n      <th>3</th>\n      <td>Plancha de Queso Papialpa</td>\n      <td>entradas</td>\n      <td>$ 24.200</td>\n      <td>3.5</td>\n    </tr>\n    <tr>\n      <th>4</th>\n      <td>Crema de Maíz</td>\n      <td>entradas</td>\n      <td>$ 14.500</td>\n      <td>3.8</td>\n    </tr>\n    <tr>\n      <th>...</th>\n      <td>...</td>\n      <td>...</td>\n      <td>...</td>\n      <td>...</td>\n    </tr>\n    <tr>\n      <th>1003</th>\n      <td>Calentado con Huevos con Aliños</td>\n      <td>desayunos</td>\n      <td>$ 16.500</td>\n      <td>3.5</td>\n    </tr>\n    <tr>\n      <th>1004</th>\n      <td>Bistec a Caballo</td>\n      <td>desayunos</td>\n      <td>$ 29.900</td>\n      <td>3.8</td>\n    </tr>\n    <tr>\n      <th>1005</th>\n      <td>Chorizo con Arepa</td>\n      <td>desayunos</td>\n      <td>$ 12.500</td>\n      <td>3.0</td>\n    </tr>\n    <tr>\n      <th>1006</th>\n      <td>Huevos Especiales con Arepa</td>\n      <td>desayunos</td>\n      <td>$ 19.900</td>\n      <td>4.6</td>\n    </tr>\n    <tr>\n      <th>1007</th>\n      <td>Huevos al gusto con Arepa con queso</td>\n      <td>desayunos</td>\n      <td>$ 15.000</td>\n      <td>4.2</td>\n    </tr>\n  </tbody>\n</table>\n<p>1008 rows × 4 columns</p>\n</div>"
     },
     "metadata": {},
     "execution_count": 11
    }
   ],
   "source": [
    "sample"
   ]
  },
  {
   "cell_type": "code",
   "execution_count": 12,
   "metadata": {},
   "outputs": [],
   "source": [
    "def date_generator():\n",
    "    return fake.date_time_between(start_date='-1y', end_date='now')\n",
    "dates = [date_generator() for i in range(1008)]"
   ]
  },
  {
   "cell_type": "code",
   "execution_count": 13,
   "metadata": {},
   "outputs": [],
   "source": [
    "o = {\n",
    "    'userid':user_ids,\n",
    "    'sex':sexs,\n",
    "    'date': dates,\n",
    "    'pay_mode': pay_mode\n",
    "}\n",
    "orders = pd.DataFrame(o)"
   ]
  },
  {
   "cell_type": "code",
   "execution_count": 16,
   "metadata": {},
   "outputs": [],
   "source": [
    "new_orders = pd.concat([orders,sample],axis=1)"
   ]
  },
  {
   "cell_type": "code",
   "execution_count": 17,
   "metadata": {},
   "outputs": [
    {
     "output_type": "execute_result",
     "data": {
      "text/plain": [
       "                                    userid sex                date pay_mode  \\\n",
       "0     239c63e1-d149-440e-96a5-b53cf3ef19d7   M 2021-04-02 05:40:23   CREDIT   \n",
       "1     e734308c-37a2-4a23-9e92-3c78dd596996   M 2021-03-05 16:52:28   CREDIT   \n",
       "2     c190a0e3-9d42-4ef4-a074-3969a9cfee52   F 2021-08-27 00:50:34      PSE   \n",
       "3     8b04bf02-b020-42d4-b5ee-5764990364dc   F 2021-09-23 23:02:17   CREDIT   \n",
       "4     6f080f4b-17b1-4bba-aac4-0170a12fdb07   M 2021-09-22 01:08:31   CREDIT   \n",
       "...                                    ...  ..                 ...      ...   \n",
       "1003  2a946a74-bb11-49cd-b572-8faf709ee30f   M 2021-08-11 01:31:23   CREDIT   \n",
       "1004  d8984a75-aded-406d-9fda-2b0f80edcab5   M 2021-08-06 22:55:27      PSE   \n",
       "1005  6628ea22-56ea-4eef-a8dc-9b2b685884e2   M 2021-10-04 15:13:54   CREDIT   \n",
       "1006  c30c35a5-c6d7-4d10-be55-8b3d887f9503   M 2021-03-19 20:24:18   CREDIT   \n",
       "1007  ba396d31-f5aa-4bc1-b7e4-a6cb54344ca0   F 2021-04-11 22:36:34   CREDIT   \n",
       "\n",
       "                                      name       type     price  rating  \n",
       "0                 Empanaditas Antioqueñas    entradas  $ 14.000     4.7  \n",
       "1                              Chicharrón    entradas  $ 22.600     4.9  \n",
       "2                          Entrada Típica    entradas  $ 29.900     4.3  \n",
       "3               Plancha de Queso Papialpa    entradas  $ 24.200     3.5  \n",
       "4                           Crema de Maíz    entradas  $ 14.500     3.8  \n",
       "...                                    ...        ...       ...     ...  \n",
       "1003      Calentado con Huevos con Aliños   desayunos  $ 16.500     3.5  \n",
       "1004                     Bistec a Caballo   desayunos  $ 29.900     3.8  \n",
       "1005                    Chorizo con Arepa   desayunos  $ 12.500     3.0  \n",
       "1006          Huevos Especiales con Arepa   desayunos  $ 19.900     4.6  \n",
       "1007  Huevos al gusto con Arepa con queso   desayunos  $ 15.000     4.2  \n",
       "\n",
       "[1008 rows x 8 columns]"
      ],
      "text/html": "<div>\n<style scoped>\n    .dataframe tbody tr th:only-of-type {\n        vertical-align: middle;\n    }\n\n    .dataframe tbody tr th {\n        vertical-align: top;\n    }\n\n    .dataframe thead th {\n        text-align: right;\n    }\n</style>\n<table border=\"1\" class=\"dataframe\">\n  <thead>\n    <tr style=\"text-align: right;\">\n      <th></th>\n      <th>userid</th>\n      <th>sex</th>\n      <th>date</th>\n      <th>pay_mode</th>\n      <th>name</th>\n      <th>type</th>\n      <th>price</th>\n      <th>rating</th>\n    </tr>\n  </thead>\n  <tbody>\n    <tr>\n      <th>0</th>\n      <td>239c63e1-d149-440e-96a5-b53cf3ef19d7</td>\n      <td>M</td>\n      <td>2021-04-02 05:40:23</td>\n      <td>CREDIT</td>\n      <td>Empanaditas Antioqueñas</td>\n      <td>entradas</td>\n      <td>$ 14.000</td>\n      <td>4.7</td>\n    </tr>\n    <tr>\n      <th>1</th>\n      <td>e734308c-37a2-4a23-9e92-3c78dd596996</td>\n      <td>M</td>\n      <td>2021-03-05 16:52:28</td>\n      <td>CREDIT</td>\n      <td>Chicharrón</td>\n      <td>entradas</td>\n      <td>$ 22.600</td>\n      <td>4.9</td>\n    </tr>\n    <tr>\n      <th>2</th>\n      <td>c190a0e3-9d42-4ef4-a074-3969a9cfee52</td>\n      <td>F</td>\n      <td>2021-08-27 00:50:34</td>\n      <td>PSE</td>\n      <td>Entrada Típica</td>\n      <td>entradas</td>\n      <td>$ 29.900</td>\n      <td>4.3</td>\n    </tr>\n    <tr>\n      <th>3</th>\n      <td>8b04bf02-b020-42d4-b5ee-5764990364dc</td>\n      <td>F</td>\n      <td>2021-09-23 23:02:17</td>\n      <td>CREDIT</td>\n      <td>Plancha de Queso Papialpa</td>\n      <td>entradas</td>\n      <td>$ 24.200</td>\n      <td>3.5</td>\n    </tr>\n    <tr>\n      <th>4</th>\n      <td>6f080f4b-17b1-4bba-aac4-0170a12fdb07</td>\n      <td>M</td>\n      <td>2021-09-22 01:08:31</td>\n      <td>CREDIT</td>\n      <td>Crema de Maíz</td>\n      <td>entradas</td>\n      <td>$ 14.500</td>\n      <td>3.8</td>\n    </tr>\n    <tr>\n      <th>...</th>\n      <td>...</td>\n      <td>...</td>\n      <td>...</td>\n      <td>...</td>\n      <td>...</td>\n      <td>...</td>\n      <td>...</td>\n      <td>...</td>\n    </tr>\n    <tr>\n      <th>1003</th>\n      <td>2a946a74-bb11-49cd-b572-8faf709ee30f</td>\n      <td>M</td>\n      <td>2021-08-11 01:31:23</td>\n      <td>CREDIT</td>\n      <td>Calentado con Huevos con Aliños</td>\n      <td>desayunos</td>\n      <td>$ 16.500</td>\n      <td>3.5</td>\n    </tr>\n    <tr>\n      <th>1004</th>\n      <td>d8984a75-aded-406d-9fda-2b0f80edcab5</td>\n      <td>M</td>\n      <td>2021-08-06 22:55:27</td>\n      <td>PSE</td>\n      <td>Bistec a Caballo</td>\n      <td>desayunos</td>\n      <td>$ 29.900</td>\n      <td>3.8</td>\n    </tr>\n    <tr>\n      <th>1005</th>\n      <td>6628ea22-56ea-4eef-a8dc-9b2b685884e2</td>\n      <td>M</td>\n      <td>2021-10-04 15:13:54</td>\n      <td>CREDIT</td>\n      <td>Chorizo con Arepa</td>\n      <td>desayunos</td>\n      <td>$ 12.500</td>\n      <td>3.0</td>\n    </tr>\n    <tr>\n      <th>1006</th>\n      <td>c30c35a5-c6d7-4d10-be55-8b3d887f9503</td>\n      <td>M</td>\n      <td>2021-03-19 20:24:18</td>\n      <td>CREDIT</td>\n      <td>Huevos Especiales con Arepa</td>\n      <td>desayunos</td>\n      <td>$ 19.900</td>\n      <td>4.6</td>\n    </tr>\n    <tr>\n      <th>1007</th>\n      <td>ba396d31-f5aa-4bc1-b7e4-a6cb54344ca0</td>\n      <td>F</td>\n      <td>2021-04-11 22:36:34</td>\n      <td>CREDIT</td>\n      <td>Huevos al gusto con Arepa con queso</td>\n      <td>desayunos</td>\n      <td>$ 15.000</td>\n      <td>4.2</td>\n    </tr>\n  </tbody>\n</table>\n<p>1008 rows × 8 columns</p>\n</div>"
     },
     "metadata": {},
     "execution_count": 17
    }
   ],
   "source": [
    "new_orders"
   ]
  },
  {
   "cell_type": "code",
   "execution_count": 18,
   "metadata": {},
   "outputs": [],
   "source": [
    "new_orders.to_csv('order.csv')"
   ]
  }
 ]
}